{
  "nbformat": 4,
  "nbformat_minor": 0,
  "metadata": {
    "colab": {
      "name": "Untitled2.ipynb",
      "provenance": []
    },
    "kernelspec": {
      "name": "python3",
      "display_name": "Python 3"
    }
  },
  "cells": [
    {
      "cell_type": "code",
      "metadata": {
        "id": "ZeIYtoW46bo_",
        "colab_type": "code",
        "colab": {}
      },
      "source": [
        "import requests\n",
        "import pandas as pd"
      ],
      "execution_count": null,
      "outputs": []
    },
    {
      "cell_type": "code",
      "metadata": {
        "id": "ojkb-wnE6fOx",
        "colab_type": "code",
        "colab": {}
      },
      "source": [
        "wiki = 'https://en.wikipedia.org/wiki/List_of_postal_codes_of_Canada:_M'\n",
        "wikipedia_page = requests.get(wiki)\n",
        "\n",
        "df_raw = pd.read_html(wikipedia_page.content, header=0)[0]\n",
        "df_new = df_raw[df_raw.Borough != 'Not assigned']\n",
        "\n",
        "df_new.head()"
      ],
      "execution_count": null,
      "outputs": []
    },
    {
      "cell_type": "code",
      "metadata": {
        "id": "ij-DxAWR6jlv",
        "colab_type": "code",
        "colab": {}
      },
      "source": [
        "df_new.loc[df_new.Neighbourhood == 'Not assigned']"
      ],
      "execution_count": null,
      "outputs": []
    },
    {
      "cell_type": "code",
      "metadata": {
        "id": "en4MdhXd6nPe",
        "colab_type": "code",
        "colab": {}
      },
      "source": [
        "df_new.Neighbourhood.replace('Not assigned',df_new.Borough,inplace=True)\n",
        "df_new.head(8)"
      ],
      "execution_count": null,
      "outputs": []
    },
    {
      "cell_type": "code",
      "metadata": {
        "id": "mKN8Uoub6tWb",
        "colab_type": "code",
        "colab": {}
      },
      "source": [
        "df_toronto = df_new.groupby(['Postcode', 'Borough'])['Neighbourhood'].apply(lambda x: ', '.join(x))\n",
        "df_toronto = df_toronto.reset_index()\n",
        "df_toronto.rename(columns = {'Postcode':'PostalCode'}, inplace = True)\n",
        "df_toronto.rename(columns = {'Neighbourhood':'Neighborhood'}, inplace = True)\n",
        "df_toronto.head()"
      ],
      "execution_count": null,
      "outputs": []
    },
    {
      "cell_type": "code",
      "metadata": {
        "id": "QwQB3PcG6xyR",
        "colab_type": "code",
        "colab": {}
      },
      "source": [
        "df_toronto.shape"
      ],
      "execution_count": null,
      "outputs": []
    }
  ]
}