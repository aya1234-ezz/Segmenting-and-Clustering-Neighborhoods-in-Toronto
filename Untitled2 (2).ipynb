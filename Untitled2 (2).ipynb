{
  "nbformat": 4,
  "nbformat_minor": 0,
  "metadata": {
    "colab": {
      "name": "Untitled2.ipynb",
      "provenance": []
    },
    "kernelspec": {
      "name": "python3",
      "display_name": "Python 3"
    }
  },
  "cells": [
    {
      "cell_type": "code",
      "metadata": {
        "id": "2r-ZB7Dc8bYR",
        "colab_type": "code",
        "colab": {}
      },
      "source": [
        "import requests\n",
        "import pandas as pd\n"
      ],
      "execution_count": null,
      "outputs": []
    },
    {
      "cell_type": "code",
      "metadata": {
        "id": "t0vj2olD-poB",
        "colab_type": "code",
        "colab": {}
      },
      "source": [
        "wiki = 'https://en.wikipedia.org/wiki/List_of_postal_codes_of_Canada:_M'\n",
        "wikipedia_page = requests.get(wiki)\n",
        "\n",
        "df_raw = pd.read_html(wikipedia_page.content, header=0)[0]\n",
        "df_new = df_raw[df_raw.Borough != 'Not assigned']\n",
        "\n",
        "df_new.head()"
      ],
      "execution_count": null,
      "outputs": []
    },
    {
      "cell_type": "code",
      "metadata": {
        "id": "f_cMFt4x-qNS",
        "colab_type": "code",
        "colab": {}
      },
      "source": [
        "df_new.loc[df_new.Neighbourhood == 'Not assigned']"
      ],
      "execution_count": null,
      "outputs": []
    },
    {
      "cell_type": "code",
      "metadata": {
        "id": "YzxcMElQ-tkH",
        "colab_type": "code",
        "colab": {}
      },
      "source": [
        "df_new.Neighbourhood.replace('Not assigned',df_new.Borough,inplace=True)\n",
        "df_new.head(8)"
      ],
      "execution_count": null,
      "outputs": []
    },
    {
      "cell_type": "code",
      "metadata": {
        "id": "c1tt1zfS-yDn",
        "colab_type": "code",
        "colab": {}
      },
      "source": [
        "df_toronto = df_new.groupby(['Postcode', 'Borough'])['Neighbourhood'].apply(lambda x: ', '.join(x))\n",
        "df_toronto = df_toronto.reset_index()\n",
        "df_toronto.rename(columns = {'Postcode':'PostalCode'}, inplace = True)\n",
        "df_toronto.rename(columns = {'Neighbourhood':'Neighborhood'}, inplace = True)\n",
        "df_toronto.head()"
      ],
      "execution_count": null,
      "outputs": []
    },
    {
      "cell_type": "code",
      "metadata": {
        "id": "f_8iwS1T-0-I",
        "colab_type": "code",
        "colab": {}
      },
      "source": [
        "df_toronto.shape"
      ],
      "execution_count": null,
      "outputs": []
    },
    {
      "cell_type": "code",
      "metadata": {
        "id": "kJQ7W6ob-3rh",
        "colab_type": "code",
        "colab": {}
      },
      "source": [
        "url = 'http://cocl.us/Geospatial_data'\n",
        "df_geo=pd.read_csv(url)\n",
        "df_geo.head()"
      ],
      "execution_count": null,
      "outputs": []
    },
    {
      "cell_type": "code",
      "metadata": {
        "id": "pmJWQVL_-3uz",
        "colab_type": "code",
        "colab": {}
      },
      "source": [
        "#check the sshape o the csv file\n",
        "df_geo.shape"
      ],
      "execution_count": null,
      "outputs": []
    },
    {
      "cell_type": "code",
      "metadata": {
        "id": "xwk27rrt-39I",
        "colab_type": "code",
        "colab": {}
      },
      "source": [
        "df_toronto = df_toronto.join(df_geo.set_index('Postal Code'), on='PostalCode')\n",
        "df_toronto.head"
      ],
      "execution_count": null,
      "outputs": []
    },
    {
      "cell_type": "code",
      "metadata": {
        "id": "R2NOWcOg_CXn",
        "colab_type": "code",
        "colab": {}
      },
      "source": [
        "!conda install -c conda-forge geocoder --yes\n",
        "import geocoder\n",
        "from geopy.geocoders import Nominatim \n",
        "\n",
        "address = 'Toronto, Ontario'\n",
        "\n",
        "geolocator = Nominatim(user_agent=\"toronto_explorer\")\n",
        "location = geolocator.geocode(address)\n",
        "latitude = location.latitude\n",
        "longitude = location.longitude\n",
        "print('The geograpical coordinate of Toronto are {}, {}.'.format(latitude, longitude))"
      ],
      "execution_count": null,
      "outputs": []
    },
    {
      "cell_type": "code",
      "metadata": {
        "id": "Pnj1BgoZ_F97",
        "colab_type": "code",
        "colab": {}
      },
      "source": [
        "import folium\n",
        "\n",
        "# create map of Toronto using latitude and longitude values\n",
        "map_Toronto = folium.Map(location=[latitude, longitude], zoom_start=10)\n",
        "\n",
        "# add markers to map\n",
        "for lat, lng, borough, neighborhood in zip(df_toronto['Latitude'], df_toronto['Longitude'], df_toronto['Borough'], df_toronto['Neighborhood']):\n",
        "    label = '{}, {}'.format(neighborhood, borough)\n",
        "    label = folium.Popup(label, parse_html=True)\n",
        "    folium.CircleMarker(\n",
        "        [lat, lng],\n",
        "        radius=5,\n",
        "        popup=label,\n",
        "        color='blue',\n",
        "        fill=True,\n",
        "        fill_color='#3186cc',\n",
        "        fill_opacity=0.7,\n",
        "        ).add_to(map_Toronto)  \n",
        "    \n",
        "map_Toronto"
      ],
      "execution_count": null,
      "outputs": []
    },
    {
      "cell_type": "code",
      "metadata": {
        "id": "qRxRpKQG_Nfm",
        "colab_type": "code",
        "colab": {}
      },
      "source": [
        "CLIENT_ID = 'XLBDRGURZVOOULUGDUC4DSJZSRE5ZI0XPB1WA5RV3YL5D1TP' # your Foursquare ID\n",
        "CLIENT_SECRET = '5TW0I4L1WKC5A0H1NZHEDZD535BFN1CDQ2MRHBW1VBNFUTEK' # your Foursquare Secret\n",
        "VERSION = '20180604' # Foursquare API version\n",
        "\n",
        "print('Your credentails:')\n",
        "print('CLIENT_ID: ' + CLIENT_ID)\n",
        "print('CLIENT_SECRET:' + CLIENT_SECRET)"
      ],
      "execution_count": null,
      "outputs": []
    },
    {
      "cell_type": "code",
      "metadata": {
        "id": "p0j97H51_RMB",
        "colab_type": "code",
        "colab": {}
      },
      "source": [
        "neighborhood_latitude = df_toronto.loc[0, 'Latitude'] # neighborhood latitude value\n",
        "neighborhood_longitude = df_toronto.loc[0, 'Longitude'] # neighborhood longitude value\n",
        "\n",
        "neighborhood_name = df_toronto.loc[0, 'Neighborhood'] # neighborhood name\n",
        "\n",
        "print('Latitude and longitude values of {} are {}, {}.'.format(neighborhood_name, \n",
        "                                                               neighborhood_latitude, \n",
        "                                                               neighborhood_longitude))"
      ],
      "execution_count": null,
      "outputs": []
    },
    {
      "cell_type": "code",
      "metadata": {
        "id": "rQtX6-ww_aMD",
        "colab_type": "code",
        "colab": {}
      },
      "source": [
        "LIMIT = 100\n",
        "radius = 500\n",
        "url = 'https://api.foursquare.com/v2/venues/explore?&client_id={}&client_secret={}&v={}&ll={},{}&radius={}&limit={}'.format(\n",
        "    CLIENT_ID, \n",
        "    CLIENT_SECRET, \n",
        "    VERSION, \n",
        "    neighborhood_latitude, \n",
        "    neighborhood_longitude, \n",
        "    radius, \n",
        "    LIMIT)\n",
        "url"
      ],
      "execution_count": null,
      "outputs": []
    },
    {
      "cell_type": "code",
      "metadata": {
        "id": "y7sCiPDL_eTU",
        "colab_type": "code",
        "colab": {}
      },
      "source": [
        "results = requests.get(url).json()\n",
        "results"
      ],
      "execution_count": null,
      "outputs": []
    },
    {
      "cell_type": "code",
      "metadata": {
        "id": "SxHhk2xl_nRV",
        "colab_type": "code",
        "colab": {}
      },
      "source": [
        "# function that extracts the category of the venue\n",
        "def get_category_type(row):\n",
        "    try:\n",
        "        categories_list = row['categories']\n",
        "    except:\n",
        "        categories_list = row['venue.categories']\n",
        "        \n",
        "    if len(categories_list) == 0:\n",
        "        return None\n",
        "    else:\n",
        "        return categories_list[0]['name']\n"
      ],
      "execution_count": null,
      "outputs": []
    },
    {
      "cell_type": "code",
      "metadata": {
        "id": "DgCC6CGZ_niK",
        "colab_type": "code",
        "colab": {}
      },
      "source": [
        "import json\n",
        "from pandas.io.json import json_normalize\n",
        "\n",
        "venues = results['response']['groups'][0]['items']\n",
        "    \n",
        "nearby_venues = json_normalize(venues) # flatten JSON\n",
        "\n",
        "# filter columns\n",
        "filtered_columns = ['venue.name', 'venue.categories', 'venue.location.lat', 'venue.location.lng']\n",
        "nearby_venues =nearby_venues.loc[:, filtered_columns]\n",
        "\n",
        "# filter the category for each row\n",
        "nearby_venues['venue.categories'] = nearby_venues.apply(get_category_type, axis=1)\n",
        "\n",
        "# clean columns\n",
        "nearby_venues.columns = [col.split(\".\")[-1] for col in nearby_venues.columns]\n",
        "\n",
        "nearby_venues.head()"
      ],
      "execution_count": null,
      "outputs": []
    },
    {
      "cell_type": "code",
      "metadata": {
        "id": "vqLcshl1_nll",
        "colab_type": "code",
        "colab": {}
      },
      "source": [
        "def getNearbyVenues(names, latitudes, longitudes, radius=500):\n",
        "    \n",
        "    venues_list=[]\n",
        "    for name, lat, lng in zip(names, latitudes, longitudes):\n",
        "        print(name)\n",
        "            \n",
        "        # create the API request URL\n",
        "        url = 'https://api.foursquare.com/v2/venues/explore?&client_id={}&client_secret={}&v={}&ll={},{}&radius={}&limit={}'.format(\n",
        "            CLIENT_ID, \n",
        "            CLIENT_SECRET, \n",
        "            VERSION, \n",
        "            lat, \n",
        "            lng, \n",
        "            radius, \n",
        "            LIMIT)\n",
        "            \n",
        "        # make the GET request\n",
        "        results = requests.get(url).json()[\"response\"]['groups'][0]['items']\n",
        "        \n",
        "        # return only relevant information for each nearby venue\n",
        "        venues_list.append([(\n",
        "            name, \n",
        "            lat, \n",
        "            lng, \n",
        "            v['venue']['name'], \n",
        "            v['venue']['location']['lat'], \n",
        "            v['venue']['location']['lng'],  \n",
        "            v['venue']['categories'][0]['name']) for v in results])\n",
        "\n",
        "    nearby_venues = pd.DataFrame([item for venue_list in venues_list for item in venue_list])\n",
        "    nearby_venues.columns = ['Neighbourhood', \n",
        "                  'Neighborhood Latitude', \n",
        "                  'Neighborhood Longitude', \n",
        "                  'Venue', \n",
        "                  'Venue Latitude', \n",
        "                  'Venue Longitude', \n",
        "                  'Venue Category']\n",
        "    \n",
        "    return(nearby_venues)\n"
      ],
      "execution_count": null,
      "outputs": []
    },
    {
      "cell_type": "code",
      "metadata": {
        "id": "Vw_gCp_j_no9",
        "colab_type": "code",
        "colab": {}
      },
      "source": [
        "toronto_venues = getNearbyVenues(names=df_toronto['Neighborhood'],\n",
        "                                   latitudes=df_toronto['Latitude'],\n",
        "                                   longitudes=df_toronto['Longitude']\n",
        "                                  )"
      ],
      "execution_count": null,
      "outputs": []
    },
    {
      "cell_type": "code",
      "metadata": {
        "id": "kUP8jrdK_93I",
        "colab_type": "code",
        "colab": {}
      },
      "source": [
        "print(toronto_venues.shape)\n",
        "toronto_venues.head()"
      ],
      "execution_count": null,
      "outputs": []
    },
    {
      "cell_type": "code",
      "metadata": {
        "id": "R0F4jA1MAFUO",
        "colab_type": "code",
        "colab": {}
      },
      "source": [
        "toronto_venues.groupby('Neighbourhood').count()"
      ],
      "execution_count": null,
      "outputs": []
    },
    {
      "cell_type": "code",
      "metadata": {
        "id": "q5zdleY_AKgj",
        "colab_type": "code",
        "colab": {}
      },
      "source": [
        "# one hot encoding\n",
        "toronto_onehot = pd.get_dummies(toronto_venues[['Venue Category']], prefix=\"\", prefix_sep=\"\")\n",
        "\n",
        "# add neighborhood column back to dataframe\n",
        "toronto_onehot['Neighbourhood'] = toronto_venues['Neighbourhood'] \n",
        "\n",
        "# move neighborhood column to the first column\n",
        "fixed_columns = [toronto_onehot.columns[-1]] + list(toronto_onehot.columns[:-1])\n",
        "toronto_onehot = toronto_onehot[fixed_columns]\n",
        "\n",
        "toronto_onehot.head()"
      ],
      "execution_count": null,
      "outputs": []
    },
    {
      "cell_type": "code",
      "metadata": {
        "id": "ISMiYPUFAOzc",
        "colab_type": "code",
        "colab": {}
      },
      "source": [
        "toronto_onehot.shape"
      ],
      "execution_count": null,
      "outputs": []
    },
    {
      "cell_type": "code",
      "metadata": {
        "id": "3u2Ge-VxATU6",
        "colab_type": "code",
        "colab": {}
      },
      "source": [
        "toronto_grouped = toronto_onehot.groupby('Neighbourhood').mean().reset_index()\n",
        "toronto_grouped.head()"
      ],
      "execution_count": null,
      "outputs": []
    },
    {
      "cell_type": "code",
      "metadata": {
        "id": "u06zLuLMAXOf",
        "colab_type": "code",
        "colab": {}
      },
      "source": [
        "toronto_grouped.shape"
      ],
      "execution_count": null,
      "outputs": []
    },
    {
      "cell_type": "code",
      "metadata": {
        "id": "QTTj4ad2AaVN",
        "colab_type": "code",
        "colab": {}
      },
      "source": [
        "def return_most_common_venues(row, num_top_venues):\n",
        "    row_categories = row.iloc[1:]\n",
        "    row_categories_sorted = row_categories.sort_values(ascending=False)\n",
        "    \n",
        "    return row_categories_sorted.index.values[0:num_top_venues]"
      ],
      "execution_count": null,
      "outputs": []
    },
    {
      "cell_type": "code",
      "metadata": {
        "id": "qi3s9RTwAauj",
        "colab_type": "code",
        "colab": {}
      },
      "source": [
        "import numpy as np\n",
        "num_top_venues = 10\n",
        "\n",
        "indicators = ['st', 'nd', 'rd']\n",
        "\n",
        "# create columns according to number of top venues\n",
        "columns = ['Neighbourhood']\n",
        "for ind in np.arange(num_top_venues):\n",
        "    try:\n",
        "        columns.append('{}{} Most Common Venue'.format(ind+1, indicators[ind]))\n",
        "    except:\n",
        "        columns.append('{}th Most Common Venue'.format(ind+1))\n",
        "\n",
        "# create a new dataframe\n",
        "neighborhoods_venues_sorted = pd.DataFrame(columns=columns)\n",
        "neighborhoods_venues_sorted['Neighbourhood'] = toronto_grouped['Neighbourhood']\n",
        "\n",
        "for ind in np.arange(toronto_grouped.shape[0]):\n",
        "    neighborhoods_venues_sorted.iloc[ind, 1:] = return_most_common_venues(toronto_grouped.iloc[ind, :], num_top_venues)\n",
        "\n",
        "neighborhoods_venues_sorted.head()"
      ],
      "execution_count": null,
      "outputs": []
    },
    {
      "cell_type": "code",
      "metadata": {
        "id": "fg07eDzTAjGf",
        "colab_type": "code",
        "colab": {}
      },
      "source": [
        "# import k-means from clustering stage\n",
        "from sklearn.cluster import KMeans\n",
        "\n",
        "# set number of clusters\n",
        "kclusters = 5\n",
        "\n",
        "toronto_grouped_clustering = toronto_grouped.drop('Neighbourhood', 1)\n",
        "\n",
        "# run k-means clustering\n",
        "kmeans = KMeans(n_clusters=kclusters, random_state=0).fit(toronto_grouped_clustering)\n",
        "\n",
        "# check cluster labels generated for each row in the dataframe\n",
        "kmeans.labels_[0:10]"
      ],
      "execution_count": null,
      "outputs": []
    },
    {
      "cell_type": "code",
      "metadata": {
        "id": "Xn9jvnISAqtC",
        "colab_type": "code",
        "colab": {}
      },
      "source": [
        "# add clustering labels\n",
        "#neighborhoods_venues_sorted.insert(0, 'Cluster Labels', kmeans.labels_)\n",
        "\n",
        "toronto_merged = df_toronto\n",
        "\n",
        "# merge toronto_grouped with toronto_data to add latitude/longitude for each neighborhood\n",
        "toronto_merged = toronto_merged.join(neighborhoods_venues_sorted.set_index('Neighbourhood'), on='Neighborhood')\n",
        "\n",
        "toronto_merged.head() # check the last columns!"
      ],
      "execution_count": null,
      "outputs": []
    },
    {
      "cell_type": "code",
      "metadata": {
        "id": "g9Tf4FF5AwGh",
        "colab_type": "code",
        "colab": {}
      },
      "source": [
        "toronto_merged[toronto_merged['Cluster Labels'].isnull()]"
      ],
      "execution_count": null,
      "outputs": []
    },
    {
      "cell_type": "code",
      "metadata": {
        "id": "udUMGepzAwfP",
        "colab_type": "code",
        "colab": {}
      },
      "source": [
        "import matplotlib.cm as cm\n",
        "import matplotlib.colors as colors\n",
        "\n",
        "# create map\n",
        "map_clusters = folium.Map(location=[latitude, longitude], zoom_start=11)\n",
        "\n",
        "# set color scheme for the clusters\n",
        "x = np.arange(kclusters)\n",
        "ys = [i + x + (i*x)**2 for i in range(kclusters)]\n",
        "colors_array = cm.rainbow(np.linspace(0, 1, len(ys)))\n",
        "rainbow = [colors.rgb2hex(i) for i in colors_array]\n",
        "\n",
        "toronto_merged_nonan = toronto_merged.dropna(subset=['Cluster Labels'])\n",
        "\n",
        "# add markers to the map\n",
        "markers_colors = []\n",
        "for lat, lon, poi, cluster in zip(toronto_merged_nonan['Latitude'], toronto_merged_nonan['Longitude'], toronto_merged_nonan['Neighborhood'], toronto_merged_nonan['Cluster Labels']):\n",
        "    label = folium.Popup(str(poi) + ' Cluster ' + str(cluster), parse_html=True)\n",
        "    folium.CircleMarker(\n",
        "        [lat, lon],\n",
        "        radius=5,\n",
        "        popup=label,\n",
        "        color=rainbow[int(cluster-1)],\n",
        "        fill=True,\n",
        "        fill_color=rainbow[int(cluster-1)],\n",
        "        fill_opacity=0.7).add_to(map_clusters)\n",
        "       \n",
        "map_clusters"
      ],
      "execution_count": null,
      "outputs": []
    },
    {
      "cell_type": "code",
      "metadata": {
        "id": "nCD8SvUPA7oH",
        "colab_type": "code",
        "colab": {}
      },
      "source": [
        "toronto_merged_nonan.loc[toronto_merged_nonan['Cluster Labels'] == 0, toronto_merged_nonan.columns[[1] + list(range(5, toronto_merged_nonan.shape[1]))]]"
      ],
      "execution_count": null,
      "outputs": []
    },
    {
      "cell_type": "code",
      "metadata": {
        "id": "-1oSN-CzA7q-",
        "colab_type": "code",
        "colab": {}
      },
      "source": [
        "toronto_merged_nonan.loc[toronto_merged_nonan['Cluster Labels'] == 1, toronto_merged_nonan.columns[[1] + list(range(5, toronto_merged_nonan.shape[1]))]]"
      ],
      "execution_count": null,
      "outputs": []
    },
    {
      "cell_type": "code",
      "metadata": {
        "id": "7u9xiNqRA7uN",
        "colab_type": "code",
        "colab": {}
      },
      "source": [
        "toronto_merged_nonan.loc[toronto_merged_nonan['Cluster Labels'] == 2, toronto_merged_nonan.columns[[1] + list(range(5, toronto_merged_nonan.shape[1]))]]"
      ],
      "execution_count": null,
      "outputs": []
    },
    {
      "cell_type": "code",
      "metadata": {
        "id": "ck92zGbKA7xN",
        "colab_type": "code",
        "colab": {}
      },
      "source": [
        "toronto_merged_nonan.loc[toronto_merged_nonan['Cluster Labels'] == 3, toronto_merged_nonan.columns[[1] + list(range(5, toronto_merged_nonan.shape[1]))]]"
      ],
      "execution_count": null,
      "outputs": []
    },
    {
      "cell_type": "code",
      "metadata": {
        "id": "tIoucYkuA70P",
        "colab_type": "code",
        "colab": {}
      },
      "source": [
        "toronto_merged_nonan.loc[toronto_merged_nonan['Cluster Labels'] == 4, toronto_merged_nonan.columns[[1] + list(range(5, toronto_merged_nonan.shape[1]))]]"
      ],
      "execution_count": null,
      "outputs": []
    }
  ]
}