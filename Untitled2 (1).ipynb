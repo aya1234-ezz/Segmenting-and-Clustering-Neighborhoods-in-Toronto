{
  "nbformat": 4,
  "nbformat_minor": 0,
  "metadata": {
    "colab": {
      "name": "Untitled2.ipynb",
      "provenance": []
    },
    "kernelspec": {
      "name": "python3",
      "display_name": "Python 3"
    }
  },
  "cells": [
    {
      "cell_type": "code",
      "metadata": {
        "id": "2r-ZB7Dc8bYR",
        "colab_type": "code",
        "colab": {}
      },
      "source": [
        "import requests\n",
        "import pandas as pd\n"
      ],
      "execution_count": null,
      "outputs": []
    },
    {
      "cell_type": "code",
      "metadata": {
        "id": "7ibsSPa08e-1",
        "colab_type": "code",
        "colab": {}
      },
      "source": [
        "wiki = 'https://en.wikipedia.org/wiki/List_of_postal_codes_of_Canada:_M'\n",
        "wikipedia_page = requests.get(wiki)\n",
        "\n",
        "df_raw = pd.read_html(wikipedia_page.content, header=0)[0]\n",
        "df_new = df_raw[df_raw.Borough != 'Not assigned']\n",
        "\n",
        "df_new.head()"
      ],
      "execution_count": null,
      "outputs": []
    },
    {
      "cell_type": "code",
      "metadata": {
        "id": "Vsm_iac88izV",
        "colab_type": "code",
        "colab": {}
      },
      "source": [
        "f_new.loc[df_new.Neighbourhood == 'Not assigned']"
      ],
      "execution_count": null,
      "outputs": []
    },
    {
      "cell_type": "code",
      "metadata": {
        "id": "fs1cWjGD8nY2",
        "colab_type": "code",
        "colab": {}
      },
      "source": [
        "df_new.Neighbourhood.replace('Not assigned',df_new.Borough,inplace=True)\n",
        "df_new.head(8)"
      ],
      "execution_count": null,
      "outputs": []
    },
    {
      "cell_type": "code",
      "metadata": {
        "id": "drMtx4zH8ppX",
        "colab_type": "code",
        "colab": {}
      },
      "source": [
        "df_toronto = df_new.groupby(['Postcode', 'Borough'])['Neighbourhood'].apply(lambda x: ', '.join(x))\n",
        "df_toronto = df_toronto.reset_index()\n",
        "df_toronto.rename(columns = {'Postcode':'PostalCode'}, inplace = True)\n",
        "df_toronto.rename(columns = {'Neighbourhood':'Neighborhood'}, inplace = True)\n",
        "df_toronto.head()"
      ],
      "execution_count": null,
      "outputs": []
    },
    {
      "cell_type": "code",
      "metadata": {
        "id": "Zu3XCFng8vWu",
        "colab_type": "code",
        "colab": {}
      },
      "source": [
        "df_toronto.shape"
      ],
      "execution_count": null,
      "outputs": []
    },
    {
      "cell_type": "code",
      "metadata": {
        "id": "b5txqbET80td",
        "colab_type": "code",
        "colab": {}
      },
      "source": [
        "url = 'http://cocl.us/Geospatial_data'\n",
        "df_geo=pd.read_csv(url)\n",
        "df_geo.head()"
      ],
      "execution_count": null,
      "outputs": []
    },
    {
      "cell_type": "code",
      "metadata": {
        "id": "hBCaAsDw87bZ",
        "colab_type": "code",
        "colab": {}
      },
      "source": [
        "df_geo.shape"
      ],
      "execution_count": null,
      "outputs": []
    },
    {
      "cell_type": "code",
      "metadata": {
        "id": "FkqDhL2A8_vI",
        "colab_type": "code",
        "colab": {}
      },
      "source": [
        "df_toronto = df_toronto.join(df_geo.set_index('Postal Code'), on='PostalCode')\n",
        "df_toronto.head"
      ],
      "execution_count": null,
      "outputs": []
    }
  ]
}